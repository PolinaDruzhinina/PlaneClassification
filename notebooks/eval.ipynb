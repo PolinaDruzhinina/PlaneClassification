{
 "cells": [
  {
   "cell_type": "code",
   "execution_count": 117,
   "id": "aaa44fdb",
   "metadata": {},
   "outputs": [],
   "source": [
    "import os\n",
    "import sys\n",
    "import shutil\n",
    "import h5py\n",
    "from glob2 import glob\n",
    "import tempfile\n",
    "from tqdm import tqdm\n",
    "import matplotlib.pyplot as plt\n",
    "import PIL\n",
    "from collections import OrderedDict\n",
    "import torch\n",
    "from torch.utils.data import Dataset\n",
    "import pandas as pd\n",
    "import numpy as np\n",
    "from sklearn.metrics import classification_report, roc_auc_score\n",
    "from sklearn.model_selection import train_test_split\n",
    "from sklearn.preprocessing import LabelEncoder\n",
    "from sklearn.metrics import classification_report, confusion_matrix\n",
    "from sklearn.model_selection import train_test_split,GroupShuffleSplit\n",
    "from sklearn.preprocessing import LabelEncoder\n",
    "import seaborn as sns\n",
    "\n",
    "from monai.apps import download_and_extract\n",
    "from monai.config import print_config\n",
    "from monai.data import decollate_batch, DataLoader\n",
    "from monai.metrics import ROCAUCMetric\n",
    "from monai.networks.nets import DenseNet121\n",
    "from monai.transforms import (\n",
    "    Activations,\n",
    "    EnsureChannelFirst,\n",
    "    AsDiscrete,\n",
    "    Compose,\n",
    "    LoadImage,\n",
    "    RandFlip,\n",
    "    RandRotate,\n",
    "    RandZoom,\n",
    "    ScaleIntensity,\n",
    "    NormalizeIntensity,\n",
    "    AddChannel,\n",
    "    ToTensor,\n",
    "    MapTransform\n",
    ")\n",
    "from monai.utils import set_determinism"
   ]
  },
  {
   "cell_type": "code",
   "execution_count": 7,
   "id": "04831f56",
   "metadata": {},
   "outputs": [],
   "source": [
    "root_dir = '/home/polina/projects/test'"
   ]
  },
  {
   "cell_type": "markdown",
   "id": "31e34391",
   "metadata": {},
   "source": [
    "## Test cross-validation experimeny with 3 folds"
   ]
  },
  {
   "cell_type": "code",
   "execution_count": 115,
   "id": "80edd065",
   "metadata": {},
   "outputs": [
    {
     "name": "stdout",
     "output_type": "stream",
     "text": [
      "Global seed set to 42\n",
      "/opt/conda/lib/python3.8/site-packages/pytorch_lightning/core/datamodule.py:95: LightningDeprecationWarning: DataModule property `train_transforms` was deprecated in v1.5 and will be removed in v1.7.\n",
      "  rank_zero_deprecation(\n",
      "/opt/conda/lib/python3.8/site-packages/pytorch_lightning/core/datamodule.py:114: LightningDeprecationWarning: DataModule property `val_transforms` was deprecated in v1.5 and will be removed in v1.7.\n",
      "  rank_zero_deprecation(\n",
      "/opt/conda/lib/python3.8/site-packages/pytorch_lightning/core/datamodule.py:88: LightningDeprecationWarning: DataModule property `train_transforms` was deprecated in v1.5 and will be removed in v1.7.\n",
      "  rank_zero_deprecation(\n",
      "/opt/conda/lib/python3.8/site-packages/pytorch_lightning/core/datamodule.py:107: LightningDeprecationWarning: DataModule property `val_transforms` was deprecated in v1.5 and will be removed in v1.7.\n",
      "  rank_zero_deprecation(\n",
      "Dataset split: \n",
      " [1915  624 1196 1612] training, [851 304 535 618] validation, [851 304 535 618] test examples\n",
      "\u001b[34m\u001b[1mwandb\u001b[0m: Currently logged in as: \u001b[33mpolina\u001b[0m. Use \u001b[1m`wandb login --relogin`\u001b[0m to force relogin\n",
      "\u001b[34m\u001b[1mwandb\u001b[0m: Tracking run with wandb version 0.13.7\n",
      "\u001b[34m\u001b[1mwandb\u001b[0m: Run data is saved locally in \u001b[35m\u001b[1m/home/polina/projects/test/notebooks/wandb/run-20221220_124341-1b6llmmo\u001b[0m\n",
      "\u001b[34m\u001b[1mwandb\u001b[0m: Run \u001b[1m`wandb offline`\u001b[0m to turn off syncing.\n",
      "\u001b[34m\u001b[1mwandb\u001b[0m: Syncing run \u001b[33mbaseline_GroupShuffleSplit_fold_0\u001b[0m\n",
      "\u001b[34m\u001b[1mwandb\u001b[0m: ⭐️ View project at \u001b[34m\u001b[4mhttps://wandb.ai/polina/PlaneClassification\u001b[0m\n",
      "\u001b[34m\u001b[1mwandb\u001b[0m: 🚀 View run at \u001b[34m\u001b[4mhttps://wandb.ai/polina/PlaneClassification/runs/1b6llmmo\u001b[0m\n",
      "check\n",
      "Using 16bit native Automatic Mixed Precision (AMP)\n",
      "/opt/conda/lib/python3.8/site-packages/pytorch_lightning/trainer/connectors/checkpoint_connector.py:51: LightningDeprecationWarning: Setting `Trainer(resume_from_checkpoint=)` is deprecated in v1.5 and will be removed in v1.7. Please pass `Trainer.fit(ckpt_path=)` directly instead.\n",
      "  rank_zero_deprecation(\n",
      "GPU available: True, used: True\n",
      "TPU available: False, using: 0 TPU cores\n",
      "IPU available: False, using: 0 IPUs\n",
      "HPU available: False, using: 0 HPUs\n",
      "/opt/conda/lib/python3.8/site-packages/pytorch_lightning/core/datamodule.py:88: LightningDeprecationWarning: DataModule property `train_transforms` was deprecated in v1.5 and will be removed in v1.7.\n",
      "  rank_zero_deprecation(\n",
      "/opt/conda/lib/python3.8/site-packages/pytorch_lightning/core/datamodule.py:107: LightningDeprecationWarning: DataModule property `val_transforms` was deprecated in v1.5 and will be removed in v1.7.\n",
      "  rank_zero_deprecation(\n",
      "Dataset split: \n",
      " [1915  624 1196 1612] training, [851 304 535 618] validation, [851 304 535 618] test examples\n",
      "LOCAL_RANK: 0 - CUDA_VISIBLE_DEVICES: [0]\n",
      "Testing DataLoader 0: 100%|█████████████████████| 37/37 [00:06<00:00,  6.15it/s]\n",
      "────────────────────────────────────────────────────────────────────────────────\n",
      "       Test metric             DataLoader 0\n",
      "────────────────────────────────────────────────────────────────────────────────\n",
      "        test_acc            0.7980936169624329\n",
      "────────────────────────────────────────────────────────────────────────────────\n",
      "\u001b[34m\u001b[1mwandb\u001b[0m: Waiting for W&B process to finish... \u001b[32m(success).\u001b[0m\n",
      "\u001b[34m\u001b[1mwandb\u001b[0m: | 0.402 MB of 0.402 MB uploaded (0.000 MB deduped)\n",
      "\u001b[34m\u001b[1mwandb\u001b[0m: Run history:\n",
      "\u001b[34m\u001b[1mwandb\u001b[0m:               epoch ▁\n",
      "\u001b[34m\u001b[1mwandb\u001b[0m:            test_acc ▁\n",
      "\u001b[34m\u001b[1mwandb\u001b[0m: trainer/global_step ▁\n",
      "\u001b[34m\u001b[1mwandb\u001b[0m: \n",
      "\u001b[34m\u001b[1mwandb\u001b[0m: Run summary:\n",
      "\u001b[34m\u001b[1mwandb\u001b[0m:               epoch 0\n",
      "\u001b[34m\u001b[1mwandb\u001b[0m:            test_acc 0.79809\n",
      "\u001b[34m\u001b[1mwandb\u001b[0m: trainer/global_step 0\n",
      "\u001b[34m\u001b[1mwandb\u001b[0m: \n",
      "\u001b[34m\u001b[1mwandb\u001b[0m: Synced \u001b[33mbaseline_GroupShuffleSplit_fold_0\u001b[0m: \u001b[34m\u001b[4mhttps://wandb.ai/polina/PlaneClassification/runs/1b6llmmo\u001b[0m\n",
      "\u001b[34m\u001b[1mwandb\u001b[0m: Synced 6 W&B file(s), 0 media file(s), 0 artifact file(s) and 1 other file(s)\n",
      "\u001b[34m\u001b[1mwandb\u001b[0m: Find logs at: \u001b[35m\u001b[1m./wandb/run-20221220_124341-1b6llmmo/logs\u001b[0m\n"
     ]
    }
   ],
   "source": [
    "! export CUDA_VISIBLE_DEVICES=0 && python3 ../main.py --exec_mode evaluate --data /home/polina/projects/test/data/ --results /home/polina/projects/test/results --experiment_name baseline_GroupShuffleSplit_fold_0 --cross_val --aug --scheduler --amp --ckpt_path /home/polina/projects/test/results/PlaneClassification/2ood5smt/checkpoints/best_epoch*.ckpt"
   ]
  },
  {
   "cell_type": "markdown",
   "id": "a57fc70e",
   "metadata": {},
   "source": [
    "## Evaluation on test part of each fold"
   ]
  },
  {
   "cell_type": "code",
   "execution_count": 78,
   "id": "b93f1734",
   "metadata": {},
   "outputs": [],
   "source": [
    "val_transforms = Compose([AddChannel(),\n",
    "                        NormalizeIntensity(),\n",
    "                        ToTensor()])"
   ]
  },
  {
   "cell_type": "code",
   "execution_count": 100,
   "id": "aa3a45fc",
   "metadata": {},
   "outputs": [],
   "source": [
    "class PlaneDataset(Dataset):\n",
    "    def __init__(self, image_files, labels, transforms):\n",
    "        self.image_files = image_files\n",
    "        self.labels = labels\n",
    "        self.transforms = transforms\n",
    "\n",
    "    def __len__(self):\n",
    "        return len(self.image_files)\n",
    "\n",
    "    def __getitem__(self, index):\n",
    "        return self.transforms(self.image_files[index]), self.labels[index]\n",
    "    \n",
    "def load_checkpoints(path):\n",
    "    state_dict = torch.load(path)['state_dict']\n",
    "    new_state_dict = OrderedDict()\n",
    "\n",
    "    for k, v in state_dict.items():\n",
    "        if 'model' in k:\n",
    "            k = k[6:]\n",
    "        new_state_dict[k]=v\n",
    "    return new_state_dict"
   ]
  },
  {
   "cell_type": "code",
   "execution_count": 118,
   "id": "6db4e747",
   "metadata": {},
   "outputs": [],
   "source": [
    "name_id = ['2ood5smt','3qk08efu', '39xdxi70']\n",
    "weights = [glob(f'{root_dir}/results/PlaneClassification/{exp}/checkpoints/best*.ckpt')[0] for exp in name_id]\n",
    "nfolds=3\n",
    "seed=42\n",
    "device = torch.device(\"cuda:0\" if torch.cuda.is_available() else \"cpu\")"
   ]
  },
  {
   "cell_type": "code",
   "execution_count": 121,
   "id": "292a2b1c",
   "metadata": {},
   "outputs": [
    {
     "name": "stderr",
     "output_type": "stream",
     "text": [
      "100%|███████████████████████████████████████████████████████████████| 37/37 [00:06<00:00,  5.46it/s]\n",
      "100%|███████████████████████████████████████████████████████████████| 37/37 [00:07<00:00,  5.13it/s]\n",
      "100%|███████████████████████████████████████████████████████████████| 37/37 [00:08<00:00,  4.61it/s]\n"
     ]
    }
   ],
   "source": [
    "datah5py = h5py.File(os.path.join(root_dir, 'data', 'plane_classification'))\n",
    "img, plane_id, sub_id, y = [datah5py[k] for k in datah5py.keys()] \n",
    "y_label_encoding = LabelEncoder().fit_transform(y)      \n",
    "kfold = GroupShuffleSplit(n_splits=nfolds,train_size=.7, random_state=seed)\n",
    "fold_pred=[]\n",
    "fold_y=[]\n",
    "for fold in range(nfolds):\n",
    "    model = DenseNet121(spatial_dims=2, in_channels=1,\n",
    "                        out_channels=4).to(device)\n",
    "    model.load_state_dict(load_checkpoints(os.path.join(root_dir, weights[fold])))\n",
    "    _, val_idx = list(kfold.split(np.array(img), np.array(y_label_encoding), np.array(sub_id)))[fold] \n",
    "    val_ds = PlaneDataset(np.array(img)[val_idx],np.array(y_label_encoding)[val_idx], val_transforms)\n",
    "    test_loader = DataLoader(val_ds, batch_size=64, num_workers=10)\n",
    "    model.eval()\n",
    "    y_true = []\n",
    "    y_pred = []\n",
    "    with torch.no_grad():\n",
    "        for test_data in tqdm(test_loader):\n",
    "            test_images, test_labels = (\n",
    "                 test_data[0].to(device),\n",
    "                 test_data[1].to(device),\n",
    "            )\n",
    "            pred = model(test_images).argmax(dim=1)\n",
    "            for i in range(len(pred)):\n",
    "                y_true.append(test_labels[i].item())\n",
    "                y_pred.append(pred[i].item())\n",
    "    fold_pred.append(y_pred)\n",
    "    fold_y.append(y_true)"
   ]
  },
  {
   "cell_type": "code",
   "execution_count": 90,
   "id": "a4d07de3",
   "metadata": {},
   "outputs": [],
   "source": [
    "name_lab = ['too Deep', 'optimal (“Good”)', 'too Shallow', 'bad interface']\n",
    "name_dict = {0:'too Deep',1: 'optimal (“Good”)', 2:'too Shallow', 3:'bad interface'}"
   ]
  },
  {
   "cell_type": "markdown",
   "id": "c6287d46",
   "metadata": {},
   "source": [
    "## Out of fold classification report "
   ]
  },
  {
   "cell_type": "code",
   "execution_count": 123,
   "id": "d754a131",
   "metadata": {},
   "outputs": [
    {
     "name": "stdout",
     "output_type": "stream",
     "text": [
      "                  precision    recall  f1-score   support\n",
      "\n",
      "        too Deep       0.79      0.90      0.84       931\n",
      "optimal (“Good”)       0.54      0.55      0.55       297\n",
      "     too Shallow       0.86      0.62      0.72       517\n",
      "   bad interface       0.87      0.89      0.88       561\n",
      "\n",
      "        accuracy                           0.79      2306\n",
      "       macro avg       0.77      0.74      0.75      2306\n",
      "    weighted avg       0.79      0.79      0.79      2306\n",
      "\n"
     ]
    }
   ],
   "source": [
    "print(classification_report(\n",
    "    y_true, y_pred, target_names=name_lab))"
   ]
  },
  {
   "cell_type": "code",
   "execution_count": 124,
   "id": "5150f67a",
   "metadata": {},
   "outputs": [
    {
     "data": {
      "text/plain": [
       "<AxesSubplot:>"
      ]
     },
     "execution_count": 124,
     "metadata": {},
     "output_type": "execute_result"
    },
    {
     "data": {
      "image/png": "[encoded data removed]",
      "text/plain": [
       "<Figure size 504x360 with 2 Axes>"
      ]
     },
     "metadata": {
      "needs_background": "light"
     },
     "output_type": "display_data"
    }
   ],
   "source": [
    "confusion_matrix_df = pd.DataFrame(confusion_matrix(y_true, y_pred)).rename(columns=name_dict, index=name_dict)\n",
    "fig, ax = plt.subplots(figsize=(7,5))         \n",
    "sns.heatmap(confusion_matrix_df, annot=True, ax=ax)"
   ]
  },
  {
   "cell_type": "code",
   "execution_count": 125,
   "id": "334ba0c4",
   "metadata": {},
   "outputs": [
    {
     "data": {
      "text/html": [
       "<div>\n",
       "<style scoped>\n",
       "    .dataframe tbody tr th:only-of-type {\n",
       "        vertical-align: middle;\n",
       "    }\n",
       "\n",
       "    .dataframe tbody tr th {\n",
       "        vertical-align: top;\n",
       "    }\n",
       "\n",
       "    .dataframe thead th {\n",
       "        text-align: right;\n",
       "    }\n",
       "</style>\n",
       "<table border=\"1\" class=\"dataframe\">\n",
       "  <thead>\n",
       "    <tr style=\"text-align: right;\">\n",
       "      <th></th>\n",
       "      <th>too Deep</th>\n",
       "      <th>optimal (“Good”)</th>\n",
       "      <th>too Shallow</th>\n",
       "      <th>bad interface</th>\n",
       "    </tr>\n",
       "  </thead>\n",
       "  <tbody>\n",
       "    <tr>\n",
       "      <th>too Deep</th>\n",
       "      <td>841</td>\n",
       "      <td>51</td>\n",
       "      <td>14</td>\n",
       "      <td>25</td>\n",
       "    </tr>\n",
       "    <tr>\n",
       "      <th>optimal (“Good”)</th>\n",
       "      <td>97</td>\n",
       "      <td>163</td>\n",
       "      <td>18</td>\n",
       "      <td>19</td>\n",
       "    </tr>\n",
       "    <tr>\n",
       "      <th>too Shallow</th>\n",
       "      <td>86</td>\n",
       "      <td>80</td>\n",
       "      <td>320</td>\n",
       "      <td>31</td>\n",
       "    </tr>\n",
       "    <tr>\n",
       "      <th>bad interface</th>\n",
       "      <td>37</td>\n",
       "      <td>6</td>\n",
       "      <td>19</td>\n",
       "      <td>499</td>\n",
       "    </tr>\n",
       "  </tbody>\n",
       "</table>\n",
       "</div>"
      ],
      "text/plain": [
       "                  too Deep  optimal (“Good”)  too Shallow  bad interface\n",
       "too Deep               841                51           14             25\n",
       "optimal (“Good”)        97               163           18             19\n",
       "too Shallow             86                80          320             31\n",
       "bad interface           37                 6           19            499"
      ]
     },
     "execution_count": 125,
     "metadata": {},
     "output_type": "execute_result"
    }
   ],
   "source": [
    "confusion_matrix_df"
   ]
  },
  {
   "cell_type": "markdown",
   "id": "4d909e6d",
   "metadata": {},
   "source": [
    "## Classification report of  0 Fold"
   ]
  },
  {
   "cell_type": "code",
   "execution_count": 126,
   "id": "e1a6b8fb",
   "metadata": {},
   "outputs": [
    {
     "name": "stdout",
     "output_type": "stream",
     "text": [
      "                  precision    recall  f1-score   support\n",
      "\n",
      "        too Deep       0.77      0.88      0.82       851\n",
      "optimal (“Good”)       0.59      0.47      0.52       304\n",
      "     too Shallow       0.77      0.77      0.77       535\n",
      "   bad interface       0.97      0.86      0.91       618\n",
      "\n",
      "        accuracy                           0.80      2308\n",
      "       macro avg       0.77      0.75      0.76      2308\n",
      "    weighted avg       0.80      0.80      0.79      2308\n",
      "\n"
     ]
    }
   ],
   "source": [
    "print(classification_report(\n",
    "    fold_y[0], fold_pred[0], target_names=name_lab))"
   ]
  },
  {
   "cell_type": "code",
   "execution_count": 128,
   "id": "e35aebac",
   "metadata": {},
   "outputs": [
    {
     "data": {
      "text/plain": [
       "<AxesSubplot:>"
      ]
     },
     "execution_count": 128,
     "metadata": {},
     "output_type": "execute_result"
    },
    {
     "data": {
      "image/png": "[encoded data removed]",
      "text/plain": [
       "<Figure size 504x360 with 2 Axes>"
      ]
     },
     "metadata": {
      "needs_background": "light"
     },
     "output_type": "display_data"
    }
   ],
   "source": [
    "confusion_matrix_df = pd.DataFrame(confusion_matrix(fold_y[0], fold_pred[0])).rename(columns=name_dict, index=name_dict)\n",
    "fig, ax = plt.subplots(figsize=(7,5))         \n",
    "sns.heatmap(confusion_matrix_df, annot=True, ax=ax)"
   ]
  },
  {
   "cell_type": "code",
   "execution_count": 129,
   "id": "fc5d464c",
   "metadata": {},
   "outputs": [
    {
     "data": {
      "text/html": [
       "<div>\n",
       "<style scoped>\n",
       "    .dataframe tbody tr th:only-of-type {\n",
       "        vertical-align: middle;\n",
       "    }\n",
       "\n",
       "    .dataframe tbody tr th {\n",
       "        vertical-align: top;\n",
       "    }\n",
       "\n",
       "    .dataframe thead th {\n",
       "        text-align: right;\n",
       "    }\n",
       "</style>\n",
       "<table border=\"1\" class=\"dataframe\">\n",
       "  <thead>\n",
       "    <tr style=\"text-align: right;\">\n",
       "      <th></th>\n",
       "      <th>too Deep</th>\n",
       "      <th>optimal (“Good”)</th>\n",
       "      <th>too Shallow</th>\n",
       "      <th>bad interface</th>\n",
       "    </tr>\n",
       "  </thead>\n",
       "  <tbody>\n",
       "    <tr>\n",
       "      <th>too Deep</th>\n",
       "      <td>750</td>\n",
       "      <td>38</td>\n",
       "      <td>55</td>\n",
       "      <td>8</td>\n",
       "    </tr>\n",
       "    <tr>\n",
       "      <th>optimal (“Good”)</th>\n",
       "      <td>111</td>\n",
       "      <td>144</td>\n",
       "      <td>47</td>\n",
       "      <td>2</td>\n",
       "    </tr>\n",
       "    <tr>\n",
       "      <th>too Shallow</th>\n",
       "      <td>74</td>\n",
       "      <td>41</td>\n",
       "      <td>412</td>\n",
       "      <td>8</td>\n",
       "    </tr>\n",
       "    <tr>\n",
       "      <th>bad interface</th>\n",
       "      <td>37</td>\n",
       "      <td>23</td>\n",
       "      <td>24</td>\n",
       "      <td>534</td>\n",
       "    </tr>\n",
       "  </tbody>\n",
       "</table>\n",
       "</div>"
      ],
      "text/plain": [
       "                  too Deep  optimal (“Good”)  too Shallow  bad interface\n",
       "too Deep               750                38           55              8\n",
       "optimal (“Good”)       111               144           47              2\n",
       "too Shallow             74                41          412              8\n",
       "bad interface           37                23           24            534"
      ]
     },
     "execution_count": 129,
     "metadata": {},
     "output_type": "execute_result"
    }
   ],
   "source": [
    "confusion_matrix_df"
   ]
  },
  {
   "cell_type": "markdown",
   "id": "d86d40a1",
   "metadata": {},
   "source": [
    "## Classification report of  1 Fold"
   ]
  },
  {
   "cell_type": "code",
   "execution_count": 130,
   "id": "1db9a451",
   "metadata": {},
   "outputs": [
    {
     "name": "stdout",
     "output_type": "stream",
     "text": [
      "                  precision    recall  f1-score   support\n",
      "\n",
      "        too Deep       0.81      0.90      0.85       819\n",
      "optimal (“Good”)       0.71      0.44      0.55       270\n",
      "     too Shallow       0.77      0.83      0.80       470\n",
      "   bad interface       0.96      0.95      0.95       747\n",
      "\n",
      "        accuracy                           0.85      2306\n",
      "       macro avg       0.81      0.78      0.79      2306\n",
      "    weighted avg       0.84      0.85      0.84      2306\n",
      "\n"
     ]
    }
   ],
   "source": [
    "print(classification_report(\n",
    "    fold_y[1], fold_pred[1], target_names=name_lab))"
   ]
  },
  {
   "cell_type": "code",
   "execution_count": 132,
   "id": "0fda512f",
   "metadata": {},
   "outputs": [
    {
     "data": {
      "text/plain": [
       "<AxesSubplot:>"
      ]
     },
     "execution_count": 132,
     "metadata": {},
     "output_type": "execute_result"
    },
    {
     "data": {
      "image/png": "[encoded data removed]",
      "text/plain": [
       "<Figure size 504x360 with 2 Axes>"
      ]
     },
     "metadata": {
      "needs_background": "light"
     },
     "output_type": "display_data"
    }
   ],
   "source": [
    "confusion_matrix_df = pd.DataFrame(confusion_matrix(fold_y[1], fold_pred[1])).rename(columns=name_dict, index=name_dict)\n",
    "fig, ax = plt.subplots(figsize=(7,5))         \n",
    "sns.heatmap(confusion_matrix_df, annot=True, ax=ax)"
   ]
  },
  {
   "cell_type": "markdown",
   "id": "c89ddb53",
   "metadata": {},
   "source": [
    "## Classification report of  2 Fold"
   ]
  },
  {
   "cell_type": "code",
   "execution_count": 131,
   "id": "b591d84a",
   "metadata": {},
   "outputs": [
    {
     "name": "stdout",
     "output_type": "stream",
     "text": [
      "                  precision    recall  f1-score   support\n",
      "\n",
      "        too Deep       0.79      0.90      0.84       931\n",
      "optimal (“Good”)       0.54      0.55      0.55       297\n",
      "     too Shallow       0.86      0.62      0.72       517\n",
      "   bad interface       0.87      0.89      0.88       561\n",
      "\n",
      "        accuracy                           0.79      2306\n",
      "       macro avg       0.77      0.74      0.75      2306\n",
      "    weighted avg       0.79      0.79      0.79      2306\n",
      "\n"
     ]
    }
   ],
   "source": [
    "print(classification_report(\n",
    "    fold_y[2], fold_pred[2], target_names=name_lab))"
   ]
  },
  {
   "cell_type": "code",
   "execution_count": 133,
   "id": "56a397c1",
   "metadata": {},
   "outputs": [
    {
     "data": {
      "text/plain": [
       "<AxesSubplot:>"
      ]
     },
     "execution_count": 133,
     "metadata": {},
     "output_type": "execute_result"
    },
    {
     "data": {
      "image/png": "[encoded data removed]",
      "text/plain": [
       "<Figure size 504x360 with 2 Axes>"
      ]
     },
     "metadata": {
      "needs_background": "light"
     },
     "output_type": "display_data"
    }
   ],
   "source": [
    "confusion_matrix_df = pd.DataFrame(confusion_matrix(fold_y[2], fold_pred[2])).rename(columns=name_dict, index=name_dict)\n",
    "fig, ax = plt.subplots(figsize=(7,5))         \n",
    "sns.heatmap(confusion_matrix_df, annot=True, ax=ax)"
   ]
  },
  {
   "cell_type": "code",
   "execution_count": null,
   "id": "e0282a94",
   "metadata": {},
   "outputs": [],
   "source": []
  }
 ],
 "metadata": {
  "kernelspec": {
   "display_name": "Python 3 (ipykernel)",
   "language": "python",
   "name": "python3"
  },
  "language_info": {
   "codemirror_mode": {
    "name": "ipython",
    "version": 3
   },
   "file_extension": ".py",
   "mimetype": "text/x-python",
   "name": "python",
   "nbconvert_exporter": "python",
   "pygments_lexer": "ipython3",
   "version": "3.8.12"
  }
 },
 "nbformat": 4,
 "nbformat_minor": 5
}
